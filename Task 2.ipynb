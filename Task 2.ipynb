{
 "cells": [
  {
   "cell_type": "code",
   "execution_count": 1,
   "metadata": {},
   "outputs": [],
   "source": [
    "class LinkedList(object):\n",
    "    def __init__(self):\n",
    "        # head of list\n",
    "        self.head = None\n",
    "    \n",
    "    # Linked list Node\n",
    "    class Node(object):\n",
    "        def __init__(self, d):\n",
    "            self.data = d\n",
    "            self.next = None\n",
    "    \n",
    "    def insert_at_head(self, value):\n",
    "        new_node = self.Node(value)\n",
    "        new_node.next = self.head\n",
    "        self.head = new_node\n",
    "    \n",
    "    # Function to print linked list\n",
    "    def printList(self):\n",
    "        temp = self.head\n",
    "        while temp != None:\n",
    "            print(str(temp.data))\n",
    "            temp = temp.next\n",
    "        print(\" \")\n",
    "    \n",
    "    def printrange(self, x, y):\n",
    "        temp = self.head\n",
    "        for i in range(1, x):\n",
    "            if temp != None:\n",
    "                temp = temp.next;\n",
    "            else:\n",
    "                print(\"No item in range\\n\")\n",
    "                return\n",
    "        for i in range(y-x+1):\n",
    "            if temp != None:\n",
    "                print(str(temp.data))\n",
    "                temp = temp.next\n",
    "            else:\n",
    "                break\n",
    "        print(\" \")\n",
    "    \n",
    "    def alternateListJoin(self, q):\n",
    "        new_P = LinkedList();\n",
    "        temp_P = self.head\n",
    "        temp_q = q.head\n",
    "        while temp_P != None:\n",
    "            new_P.insert_at_head(temp_P.data)\n",
    "            temp_P = temp_P.next\n",
    "            if temp_q != None:\n",
    "                new_P.insert_at_head(temp_q.data)\n",
    "                temp_q = temp_q.next\n",
    "        #new_P_final = LinkedList();\n",
    "        self.head = None\n",
    "        temp = new_P.head\n",
    "        while temp != None:\n",
    "            self.insert_at_head(temp.data)\n",
    "            temp = temp.next\n",
    "        #return new_P_final\n",
    "        "
   ]
  },
  {
   "cell_type": "code",
   "execution_count": 2,
   "metadata": {},
   "outputs": [
    {
     "name": "stdout",
     "output_type": "stream",
     "text": [
      "1\n",
      "2\n",
      "3\n",
      "4\n",
      "5\n",
      " \n",
      "3\n",
      "4\n",
      "5\n",
      " \n"
     ]
    }
   ],
   "source": [
    "P = LinkedList();\n",
    "for i in range(0,5):\n",
    "    P.insert_at_head(5-i);\n",
    "P.printList();\n",
    "P.printrange(3,5)"
   ]
  },
  {
   "cell_type": "code",
   "execution_count": 3,
   "metadata": {},
   "outputs": [
    {
     "name": "stdout",
     "output_type": "stream",
     "text": [
      "No item in range\n",
      "\n"
     ]
    }
   ],
   "source": [
    "P = LinkedList();\n",
    "P.printrange(3,5)"
   ]
  },
  {
   "cell_type": "code",
   "execution_count": 4,
   "metadata": {},
   "outputs": [
    {
     "name": "stdout",
     "output_type": "stream",
     "text": [
      "1\n",
      "2\n",
      "3\n",
      "4\n",
      "5\n",
      " \n",
      "3\n",
      "4\n",
      "5\n",
      " \n"
     ]
    }
   ],
   "source": [
    "P = LinkedList();\n",
    "for i in range(0,5):\n",
    "    P.insert_at_head(5-i);\n",
    "P.printList();\n",
    "P.printrange(3,10)"
   ]
  },
  {
   "cell_type": "code",
   "execution_count": 5,
   "metadata": {},
   "outputs": [
    {
     "name": "stdout",
     "output_type": "stream",
     "text": [
      "P: \n",
      "1\n",
      "3\n",
      "5\n",
      "7\n",
      "9\n",
      " \n",
      "q: \n",
      "2\n",
      "4\n",
      "6\n",
      "8\n",
      "10\n",
      " \n",
      "P: \n",
      "1\n",
      "2\n",
      "3\n",
      "4\n",
      "5\n",
      "6\n",
      "7\n",
      "8\n",
      "9\n",
      "10\n",
      " \n"
     ]
    }
   ],
   "source": [
    "P = LinkedList();\n",
    "for i in range(0,5):\n",
    "    P.insert_at_head(9-(2*i))\n",
    "print(\"P: \")\n",
    "P.printList()\n",
    "\n",
    "q = LinkedList();\n",
    "for i in range(0,5):\n",
    "    q.insert_at_head(10-(2*i))\n",
    "print(\"q: \")\n",
    "q.printList()\n",
    "\n",
    "P.alternateListJoin(q)\n",
    "print(\"P: \")\n",
    "P.printList()"
   ]
  },
  {
   "cell_type": "code",
   "execution_count": 6,
   "metadata": {},
   "outputs": [
    {
     "name": "stdout",
     "output_type": "stream",
     "text": [
      "P: \n",
      "1\n",
      "3\n",
      "5\n",
      " \n",
      "q: \n",
      "2\n",
      "4\n",
      "6\n",
      "8\n",
      "10\n",
      " \n",
      "P: \n",
      "1\n",
      "2\n",
      "3\n",
      "4\n",
      "5\n",
      "6\n",
      " \n"
     ]
    }
   ],
   "source": [
    "P = LinkedList();\n",
    "for i in range(2,5):\n",
    "    P.insert_at_head(9-(2*i))\n",
    "print(\"P: \")\n",
    "P.printList()\n",
    "\n",
    "q = LinkedList();\n",
    "for i in range(0,5):\n",
    "    q.insert_at_head(10-(2*i))\n",
    "print(\"q: \")\n",
    "q.printList()\n",
    "\n",
    "P.alternateListJoin(q)\n",
    "print(\"P: \")\n",
    "P.printList()"
   ]
  },
  {
   "cell_type": "code",
   "execution_count": 7,
   "metadata": {},
   "outputs": [
    {
     "name": "stdout",
     "output_type": "stream",
     "text": [
      "P: \n",
      "1\n",
      "3\n",
      "5\n",
      "7\n",
      "9\n",
      " \n",
      "q: \n",
      "2\n",
      "4\n",
      "6\n",
      " \n",
      "P: \n",
      "1\n",
      "2\n",
      "3\n",
      "4\n",
      "5\n",
      "6\n",
      "7\n",
      "9\n",
      " \n"
     ]
    }
   ],
   "source": [
    "P = LinkedList();\n",
    "for i in range(0,5):\n",
    "    P.insert_at_head(9-(2*i))\n",
    "print(\"P: \")\n",
    "P.printList()\n",
    "\n",
    "q = LinkedList();\n",
    "for i in range(2,5):\n",
    "    q.insert_at_head(10-(2*i))\n",
    "print(\"q: \")\n",
    "q.printList()\n",
    "\n",
    "P.alternateListJoin(q)\n",
    "print(\"P: \")\n",
    "P.printList()"
   ]
  },
  {
   "cell_type": "code",
   "execution_count": null,
   "metadata": {},
   "outputs": [],
   "source": []
  }
 ],
 "metadata": {
  "kernelspec": {
   "display_name": "Python 3",
   "language": "python",
   "name": "python3"
  },
  "language_info": {
   "codemirror_mode": {
    "name": "ipython",
    "version": 3
   },
   "file_extension": ".py",
   "mimetype": "text/x-python",
   "name": "python",
   "nbconvert_exporter": "python",
   "pygments_lexer": "ipython3",
   "version": "3.8.3"
  }
 },
 "nbformat": 4,
 "nbformat_minor": 4
}
